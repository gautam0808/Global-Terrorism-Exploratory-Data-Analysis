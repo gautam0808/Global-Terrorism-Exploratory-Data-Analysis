{
  "cells": [
    {
      "cell_type": "markdown",
      "metadata": {
        "id": "vncDsAP0Gaoa"
      },
      "source": [
        "# **Project Name - Global Terrorism EDA**  \n",
        "\n"
      ]
    },
    {
      "cell_type": "markdown",
      "metadata": {
        "id": "beRrZCGUAJYm"
      },
      "source": [
        "##### **Project Type - EDA**    \n",
        "##### **Contribution - Individual**    \n",
        "##### **STUDENT NAME - GAUTAM VERMA**\n"
      ]
    },
    {
      "cell_type": "markdown",
      "metadata": {
        "id": "FJNUwmbgGyua"
      },
      "source": [
        "# **Project Summary -**"
      ]
    },
    {
      "cell_type": "markdown",
      "metadata": {
        "id": "F6v_1wHtG2nS"
      },
      "source": [
        "\n",
        "For my exploratory data analysis project, I delved into information about terrorist attacks worldwide. I collected data on the year, location, attack type, responsible group, and casualties. Here's what I discovered:\n",
        "\n",
        "Understanding the Data:\n",
        "I gathered details to see patterns globally and make sense of what's happening. The information included the number of people killed or wounded in each attack.\n",
        "\n",
        "Key Insights:\n",
        "2014 stood out with the most casualties, while 1971 had the least. The Middle East and North Africa had the most attacks, especially in Iraq. On the flip side, Australia had the fewest attacks, making it relatively safer.\n",
        "\n",
        "Specifics:\n",
        "Focusing on Iraq, I found it had the most attacks, with the Taliban group being a major player. Iraq also had the highest casualties. In contrast, Turkey had the least number of attacks.\n",
        "\n",
        "Attack Methods:\n",
        "Almost half of the attacks involved bombings, making them the most common method. Boko Haram had the least number of attacks among the top 10 groups I looked at.\n",
        "\n",
        "Casualties Analysis:\n",
        "Most incidents resulted in relatively low to moderate casualties, but there were outliers with higher casualties. This provided insights into the severity of different incidents.\n",
        "\n",
        "Suggestions:\n",
        "To enhance safety, I suggested strategies like improving security measures in regions with more attacks and learning from successful security models in places with fewer incidents, such as Australia.\n",
        "\n",
        "Preparation for Different Situations:\n",
        "I advised being ready for years with more incidents, like 2014, by understanding the dynamics during such times. Having plans in place for various attack types, especially those involving bombings, was crucial.\n",
        "\n",
        "Working Together for a Safer World:\n",
        "I emphasized the importance of countries collaborating. By sharing information, learning from each other, and participating in global efforts, we can collectively create a safer world.\n",
        "\n",
        "In summary, my project allowed me to unravel the variations in terrorist attacks worldwide. It's like putting together puzzle pieces to grasp the bigger picture and find ways to contribute to making our world safer."
      ]
    },
    {
      "cell_type": "markdown",
      "metadata": {
        "id": "w6K7xa23Elo4"
      },
      "source": [
        "# **GitHub Link -**"
      ]
    },
    {
      "cell_type": "markdown",
      "metadata": {
        "id": "h1o69JH3Eqqn"
      },
      "source": [
        "Provide your GitHub Link here.\n",
        "\n",
        "https://github.com/gautam0808/Global-Terrorism-Exploratory-Data-Analysis"
      ]
    },
    {
      "cell_type": "markdown",
      "metadata": {
        "id": "yQaldy8SH6Dl"
      },
      "source": [
        "# **Problem Statement**\n"
      ]
    },
    {
      "cell_type": "markdown",
      "metadata": {
        "id": "DpeJGUA3kjGy"
      },
      "source": [
        "**Write Problem Statement Here.**\n",
        "\n",
        "Creating a data model to understand the risks and Danger according to the areas so that it can help making a safe and appropriate decision to take for a business."
      ]
    },
    {
      "cell_type": "markdown",
      "metadata": {
        "id": "PH-0ReGfmX4f"
      },
      "source": [
        "#### **Define Your Business Objective?**"
      ]
    },
    {
      "cell_type": "markdown",
      "metadata": {
        "id": "PhDvGCAqmjP1"
      },
      "source": [
        "Answer Here.\n",
        "\n",
        "To establish security intelligence framework according to the Global Terrorism Database (GTD) data, enabling proactive risk mitigation and ensuring the safety and continuity of business operations in regions keeping in mind terrorist activities.\n",
        "\n",
        "main components of business objectives are Data Utilization, Operational Continuity, Stakeholder Safety, Collaboration and Partnerships, Risk Mitigation."
      ]
    },
    {
      "cell_type": "markdown",
      "metadata": {
        "id": "mDgbUHAGgjLW"
      },
      "source": [
        "# **General Guidelines** : -  "
      ]
    },
    {
      "cell_type": "markdown",
      "metadata": {
        "id": "ZrxVaUj-hHfC"
      },
      "source": [
        "1.   Well-structured, formatted, and commented code is required.\n",
        "2.   Exception Handling, Production Grade Code & Deployment Ready Code will be a plus. Those students will be awarded some additional credits.\n",
        "     \n",
        "     The additional credits will have advantages over other students during Star Student selection.\n",
        "       \n",
        "             [ Note: - Deployment Ready Code is defined as, the whole .ipynb notebook should be executable in one go\n",
        "                       without a single error logged. ]\n",
        "\n",
        "3.   Each and every logic should have proper comments.\n",
        "4. You may add as many number of charts you want. Make Sure for each and every chart the following format should be answered.\n",
        "        \n",
        "\n",
        "```\n",
        "# Chart visualization code\n",
        "```\n",
        "            \n",
        "\n",
        "*   Why did you pick the specific chart?\n",
        "*   What is/are the insight(s) found from the chart?\n",
        "* Will the gained insights help creating a positive business impact?\n",
        "Are there any insights that lead to negative growth? Justify with specific reason.\n",
        "\n",
        "5. You have to create at least 20 logical & meaningful charts having important insights.\n",
        "\n",
        "\n",
        "[ Hints : - Do the Vizualization in  a structured way while following \"UBM\" Rule.\n",
        "\n",
        "U - Univariate Analysis,\n",
        "\n",
        "B - Bivariate Analysis (Numerical - Categorical, Numerical - Numerical, Categorical - Categorical)\n",
        "\n",
        "M - Multivariate Analysis\n",
        " ]\n",
        "\n",
        "\n",
        "\n"
      ]
    },
    {
      "cell_type": "markdown",
      "metadata": {
        "id": "O_i_v8NEhb9l"
      },
      "source": [
        "# ***Let's Begin !***"
      ]
    },
    {
      "cell_type": "markdown",
      "metadata": {
        "id": "HhfV-JJviCcP"
      },
      "source": [
        "## ***1. Know Your Data***"
      ]
    },
    {
      "cell_type": "markdown",
      "metadata": {
        "id": "Y3lxredqlCYt"
      },
      "source": [
        "### Import Libraries"
      ]
    },
    {
      "cell_type": "code",
      "execution_count": null,
      "metadata": {
        "id": "M8Vqi-pPk-HR"
      },
      "outputs": [],
      "source": [
        "# Import Libraries\n",
        "import numpy as np\n",
        "import pandas as pd\n",
        "import matplotlib.pyplot as plt\n",
        "import seaborn as sns"
      ]
    },
    {
      "cell_type": "markdown",
      "metadata": {
        "id": "3RnN4peoiCZX"
      },
      "source": [
        "### Dataset Loading"
      ]
    },
    {
      "cell_type": "code",
      "execution_count": null,
      "metadata": {
        "id": "4CkvbW_SlZ_R"
      },
      "outputs": [],
      "source": [
        "# Load Dataset\n",
        "\n",
        "file_path = r'C:\\Users\\Gautam\\Desktop\\GLOBALTERRORISM.csv'\n",
        "\n",
        "\n",
        "data = pd.read_csv(file_path, encoding='latin-1')\n",
        "\n"
      ]
    },
    {
      "cell_type": "markdown",
      "metadata": {
        "id": "x71ZqKXriCWQ"
      },
      "source": [
        "### Dataset First View"
      ]
    },
    {
      "cell_type": "code",
      "execution_count": null,
      "metadata": {
        "id": "LWNFOSvLl09H"
      },
      "outputs": [],
      "source": [
        "# Dataset First Look\n",
        "data\n"
      ]
    },
    {
      "cell_type": "markdown",
      "metadata": {
        "id": "7hBIi_osiCS2"
      },
      "source": [
        "### Dataset Rows & Columns count"
      ]
    },
    {
      "cell_type": "code",
      "execution_count": null,
      "metadata": {
        "id": "Kllu7SJgmLij",
        "scrolled": true
      },
      "outputs": [],
      "source": [
        "# Dataset Rows & Columns count\n",
        "data.count()"
      ]
    },
    {
      "cell_type": "code",
      "execution_count": null,
      "metadata": {
        "id": "AgoReB2gGvQ_"
      },
      "outputs": [],
      "source": [
        "data.columns"
      ]
    },
    {
      "cell_type": "code",
      "execution_count": null,
      "metadata": {
        "id": "Moa8LxPyGvQ_"
      },
      "outputs": [],
      "source": [
        "data.shape"
      ]
    },
    {
      "cell_type": "markdown",
      "metadata": {
        "id": "JlHwYmJAmNHm"
      },
      "source": [
        "### Dataset Information"
      ]
    },
    {
      "cell_type": "code",
      "execution_count": null,
      "metadata": {
        "id": "e9hRXRi6meOf"
      },
      "outputs": [],
      "source": [
        "# Dataset Info\n",
        "data.info()"
      ]
    },
    {
      "cell_type": "markdown",
      "metadata": {
        "id": "35m5QtbWiB9F"
      },
      "source": [
        "#### Duplicate Values"
      ]
    },
    {
      "cell_type": "code",
      "execution_count": null,
      "metadata": {
        "id": "1sLdpKYkmox0"
      },
      "outputs": [],
      "source": [
        "# Dataset Duplicate Value Count\n",
        "data.duplicated().sum()"
      ]
    },
    {
      "cell_type": "markdown",
      "metadata": {
        "id": "PoPl-ycgm1ru"
      },
      "source": [
        "#### Missing Values/Null Values"
      ]
    },
    {
      "cell_type": "code",
      "execution_count": null,
      "metadata": {
        "id": "GgHWkxvamxVg"
      },
      "outputs": [],
      "source": [
        "# Missing Values/Null Values Count\n",
        "data.isnull().sum()"
      ]
    },
    {
      "cell_type": "code",
      "execution_count": null,
      "metadata": {
        "id": "3q5wnI3om9sJ"
      },
      "outputs": [],
      "source": [
        "# Visualizing the missing values\n",
        "plt.figure(figsize=(8, 6))\n",
        "sns.heatmap(data.isnull(), cmap='viridis', cbar=False, yticklabels=False)\n",
        "\n",
        "plt.title('Missing Values Heatmap')\n",
        "plt.show()"
      ]
    },
    {
      "cell_type": "markdown",
      "metadata": {
        "id": "H0kj-8xxnORC"
      },
      "source": [
        "### What did you know about your dataset?"
      ]
    },
    {
      "cell_type": "markdown",
      "metadata": {
        "id": "gfoNAAC-nUe_"
      },
      "source": [
        "Answer Here\n",
        "\n",
        "\n",
        "The examination of global terrorism data is enriched by several pivotal columns that offer nuanced insights into diverse aspects of attacks. The 'city' column identifies locations, providing geographic context crucial for strategic analysis. 'Vicinity' flags attacks occurring near populated areas. 'Attacktype' categorizes methods, delineating patterns such as bombings or armed assaults. 'Targetsubtype' refines targets, specifying entities like military, civilians, or infrastructure. The 'individual' and 'group name' columns discern between lone actors and organized entities, crucial for understanding the spectrum of perpetrating forces. 'Claimmode' unveils how responsibility is asserted, varying from formal claims to implicit acknowledgment. 'Weapsubtype' delves into weaponry details, crucial for threat assessment. 'Property' signals attacks impacting assets, while 'released' gauges the aftermath's impact. This data synthesis enables a comprehensive exploration of global terrorism, elucidating attack dynamics, motives, and consequences with a multifaceted perspective indispensable for strategic counter-terrorism efforts and policy formulation."
      ]
    },
    {
      "cell_type": "markdown",
      "metadata": {
        "id": "nA9Y7ga8ng1Z"
      },
      "source": [
        "## ***2. Understanding Your Variables***"
      ]
    },
    {
      "cell_type": "code",
      "execution_count": null,
      "metadata": {
        "id": "j7xfkqrt5Ag5"
      },
      "outputs": [],
      "source": [
        "# Dataset Columns\n",
        "data.columns"
      ]
    },
    {
      "cell_type": "code",
      "execution_count": null,
      "metadata": {
        "id": "DnOaZdaE5Q5t"
      },
      "outputs": [],
      "source": [
        "# Dataset Describe\n",
        "data.describe(include='all')"
      ]
    },
    {
      "cell_type": "markdown",
      "metadata": {
        "id": "PBTbrJXOngz2"
      },
      "source": [
        "### Variables Description"
      ]
    },
    {
      "cell_type": "markdown",
      "metadata": {
        "id": "aJV4KIxSnxay"
      },
      "source": [
        "Certainly, providing a brief explanation for each column:\n",
        "\n",
        "eventid: Unique identifier for each terrorist event.\n",
        "\n",
        "iyear: Year in which the incident occurred.\n",
        "\n",
        "imonth: Month of the incident.\n",
        "\n",
        "iday: Day of the month when the incident occurred.\n",
        "\n",
        "approxdate: Approximate date of the incident.\n",
        "\n",
        "extended: Indicates whether the incident extended beyond 24 hours.\n",
        "\n",
        "resolution: Resolution information for the incident.\n",
        "\n",
        "country: Numeric code representing the country where the incident occurred.\n",
        "\n",
        "country_txt: Name of the country where the incident occurred.\n",
        "\n",
        "region: Numeric code representing the region where the incident occurred.\n",
        "\n",
        "region_txt: Name of the region where the incident occurred.\n",
        "\n",
        "provstate: Province or state where the incident occurred.\n",
        "\n",
        "city: City where the incident occurred.\n",
        "\n",
        "latitude: Latitude coordinates of the incident location.\n",
        "\n",
        "longitude: Longitude coordinates of the incident location.\n",
        "\n",
        "specificity: Measure of the geographic specificity of the incident location.\n",
        "\n",
        "vicinity: Indicates if the incident occurred in the vicinity of the city.\n",
        "\n",
        "location: Detailed location information for the incident.\n",
        "\n",
        "summary: Summary of the incident.\n",
        "crit1, crit2, crit3: Criteria indicating the political, economic, religious motivations.\n",
        "\n",
        "doubtterr: Indicates doubt about the terrorist attack.\n",
        "\n",
        "alternative: Indicates alternative motives were considered.\n",
        "\n",
        "alternative_txt: Textual description of alternative motives.\n",
        "\n",
        "multiple: Indicates if there were multiple incidents in the same city on the same day.\n",
        "\n",
        "success: Indicates whether the attack was successful.\n",
        "\n",
        "suicide: Indicates if the attack was a suicide attack.\n",
        "attacktype1, attacktype1_txt, attacktype2, attacktype2_txt,\n",
        "\n",
        "attacktype3, attacktype3_txt: Codes and descriptions for primary, secondary, and tertiary attack types.\n",
        "targtype1, targtype1_txt, targsubtype1, targsubtype1_txt, corp1,\n",
        "\n",
        "target1, natlty1, natlty1_txt: Details about the target of the attack.\n",
        "targtype2, targtype2_txt, targsubtype2, targsubtype2_txt, corp2,\n",
        "\n",
        "target2, natlty2, natlty2_txt: Details about the second target of the attack.\n",
        "\n",
        "targtype3, targtype3_txt, targsubtype3, targsubtype3_txt, corp3, target3, natlty3, natlty3_txt: Details about the third target of the attack.\n",
        "\n",
        "gname, gsubname, gname2, gsubname2, gname3, gsubname3: Names and aliases of the perpetrator groups.\n",
        "\n",
        "motive: Motivation behind the attack.\n",
        "\n",
        "guncertain1, guncertain2, guncertain3: Indicates uncertainty about the group responsible.\n",
        "\n",
        "individual: Indicates if the attack was carried out by an individual.\n",
        "\n",
        "nperps, nperpcap: Number of perpetrators and the number captured.\n",
        "\n",
        "claimed: Indicates whether the group claimed responsibility.\n",
        "\n",
        "claimmode, claimmode_txt, claim2, claimmode2, claimmode2_txt, claim3,\n",
        "claimmode3, claimmode3_txt: Codes and descriptions for claims made by the group.\n",
        "\n",
        "compclaim: Indicates if there were competing claims.\n",
        "\n",
        "weaptype1, weaptype1_txt, weapsubtype1, weapsubtype1_txt, weaptype2, weaptype2_txt, weapsubtype2, weapsubtype2_txt: Codes and descriptions for the weapon types and subtypes.\n",
        "\n",
        "weaptype3, weaptype3_txt, weapsubtype3, weapsubtype3_txt, weaptype4, weaptype4_txt, weapsubtype4, weapsubtype4_txt: Codes and descriptions for additional weapon types and subtypes.\n",
        "\n",
        "weapdetail: Detailed description of the weapons used.\n",
        "\n",
        "nkill, nkillus, nkillter, nwound, nwoundus, nwoundte: Number of killed and wounded individuals, distinguishing between perpetrators and terrorists.\n",
        "\n",
        "property, propextent, propextent_txt, propvalue, propcomment: Details about property damage.\n",
        "\n",
        "ishostkid, nhostkid, nhostkidus, nhours, ndays: Information about hostages, including the number of hostages, hours, and days.\n",
        "\n",
        "divert: Diverted flights as part of the incident.\n",
        "\n",
        "kidhijcountry: Country where the hijacking or kidnapping occurred.\n",
        "ransom, ransomamt, ransomamtus, ransompaid, ransompaidus, ransomnote: Details about ransom demands and payments.\n",
        "\n",
        "hostkidoutcome, hostkidoutcome_txt, nreleased: Outcome of the hostage situation and the number released.\n",
        "\n",
        "addnotes: Additional notes or comments.\n",
        "\n",
        "scite1, scite2, scite3: Sources citing the incident.\n",
        "\n",
        "dbsource: Source of the data.\n",
        "\n",
        "INT_LOG, INT_IDEO, INT_MISC, INT_ANY: Binary indicators for various types of international terrorism.\n",
        "\n",
        "\n",
        "\n",
        "\n"
      ]
    },
    {
      "cell_type": "markdown",
      "metadata": {
        "id": "u3PMJOP6ngxN"
      },
      "source": [
        "### Check Unique Values for each variable."
      ]
    },
    {
      "cell_type": "code",
      "execution_count": null,
      "metadata": {
        "id": "zms12Yq5n-jE"
      },
      "outputs": [],
      "source": [
        "# Check Unique Values for each variable.\n",
        "data.nunique()"
      ]
    },
    {
      "cell_type": "code",
      "execution_count": null,
      "metadata": {
        "id": "MTvbuH3oGvRK"
      },
      "outputs": [],
      "source": [
        "for column in data.columns:\n",
        "    unique_values = data[column].unique()\n",
        "    print(f\"Unique values for '{column}':\\n{unique_values}\")\n",
        "    print(\"===\")"
      ]
    },
    {
      "cell_type": "markdown",
      "metadata": {
        "id": "dauF4eBmngu3"
      },
      "source": [
        "## 3. ***Data Wrangling***"
      ]
    },
    {
      "cell_type": "markdown",
      "metadata": {
        "id": "bKJF3rekwFvQ"
      },
      "source": [
        "### Data Wrangling Code\n",
        "\n",
        "cleaning the data"
      ]
    },
    {
      "cell_type": "code",
      "execution_count": null,
      "metadata": {
        "id": "wk-9a2fpoLcV"
      },
      "outputs": [],
      "source": [
        "# Write your code to make your dataset analysis ready.\n",
        "data=data[[\"iyear\",\"imonth\",\"iday\",\"country_txt\",\"region_txt\",\"provstate\",\"city\"\n",
        "          ,\"latitude\",\"longitude\",\"location\",\"summary\",\"attacktype1_txt\",\"targtype1_txt\",\"gname\",\"motive\",\n",
        "          \"weaptype1_txt\",\"nkill\",\"nwound\",\"addnotes\"]]\n",
        "data.head()"
      ]
    },
    {
      "cell_type": "code",
      "execution_count": null,
      "metadata": {
        "id": "r-9dFf3uGvRK"
      },
      "outputs": [],
      "source": [
        "#We have taken Out the important columns for the further analysis"
      ]
    },
    {
      "cell_type": "code",
      "execution_count": null,
      "metadata": {
        "id": "6ku9_ZG4GvRL"
      },
      "outputs": [],
      "source": [
        "data.rename(columns={\"iyear\":\"Year\",\"imonth\":\"Month\",\"iday\":\"Day\",\"country_txt\":\"Country\",\"region_txt\":\"Region\",\"provstate\":\"Province/State\",\"city\":\"City\"\n",
        "          ,\"latitude\":\"Latitude\",\"longitude\":\"Longitude\",\"location\":\"Location\",\"summary\":\"Summary\",\"attacktype1_txt\":\"Attack Type\",\"targtype1_txt\":\"Target Type\",\"gname\":\"Group Name\",\"motive\":\"Motive\",\n",
        "          \"weaptype1_txt\":\"Weapon Type\",\"nkill\":\"No of Killed\",\"nwound\":\"Wounded\",\"addnotes\":\"Add Notes\"\n",
        "},inplace=True)"
      ]
    },
    {
      "cell_type": "code",
      "execution_count": null,
      "metadata": {
        "id": "XnP4bSAAGvRL"
      },
      "outputs": [],
      "source": [
        "data.head()"
      ]
    },
    {
      "cell_type": "code",
      "execution_count": null,
      "metadata": {
        "id": "DleE00wjGvRL"
      },
      "outputs": [],
      "source": [
        "data.info()"
      ]
    },
    {
      "cell_type": "code",
      "execution_count": null,
      "metadata": {
        "id": "mWsexw5fGvRL"
      },
      "outputs": [],
      "source": [
        "data.shape"
      ]
    },
    {
      "cell_type": "code",
      "execution_count": null,
      "metadata": {
        "id": "mJ44KngxGvRM"
      },
      "outputs": [],
      "source": [
        "data.isnull().sum()"
      ]
    },
    {
      "cell_type": "code",
      "execution_count": null,
      "metadata": {
        "id": "RgK6bpLoGvRM"
      },
      "outputs": [],
      "source": [
        "data[\"No of Killed\"]=data[\"No of Killed\"].fillna(0)\n",
        "data[\"Wounded\"]=data[\"Wounded\"].fillna(0)\n",
        "data[\"Casualty\"]=data[\"No of Killed\"]+data[\"Wounded\"]"
      ]
    },
    {
      "cell_type": "code",
      "execution_count": null,
      "metadata": {
        "id": "OVno-lItGvRM"
      },
      "outputs": [],
      "source": [
        "data.describe()"
      ]
    },
    {
      "cell_type": "markdown",
      "metadata": {
        "id": "MSa1f5Uengrz"
      },
      "source": [
        "### What all manipulations have you done and insights you found?"
      ]
    },
    {
      "cell_type": "markdown",
      "metadata": {
        "id": "LbyXE7I1olp8"
      },
      "source": [
        "Answer Here.\n",
        "\n",
        "After viewing and understanding the data and understanding the variable i have picked out some important columns from the data and used those columns to get my insights from the data. i have changed the name of the columns and created one column named 'casualties' where there are sum of total killed and total wounded people, and i have filled null values with zero to clean the data.\n",
        "\n",
        "The insights i got from the Data are:\n",
        "\n",
        "1.The Data consists of Terrorist activities ranging between year:1970 to 2017\n",
        "\n",
        "2.Maximum Number of people killed in one event were:1570\n",
        "\n",
        "3.Maximum number of people Wounded in an event were:8191\n",
        "\n",
        "4.Maximum number of total casualties in an event were:9574"
      ]
    },
    {
      "cell_type": "markdown",
      "metadata": {
        "id": "GF8Ens_Soomf"
      },
      "source": [
        "## ***4. Data Vizualization, Storytelling & Experimenting with charts : Understand the relationships between variables***"
      ]
    },
    {
      "cell_type": "markdown",
      "metadata": {
        "id": "0wOQAZs5pc--"
      },
      "source": [
        "#### Chart - 1 BAR CHART (TOTAL NUMBER OF ATTACKS EACH YEAR)"
      ]
    },
    {
      "cell_type": "code",
      "execution_count": null,
      "metadata": {
        "id": "5qKkokeBGvRN"
      },
      "outputs": [],
      "source": [
        "attacks=data[\"Year\"].value_counts(dropna=False).sort_index().to_frame().reset_index().rename(columns={'index':\"Year\",\"Year\":\"Attacks\"}).set_index(\"Year\")\n",
        "attacks.head()"
      ]
    },
    {
      "cell_type": "code",
      "execution_count": null,
      "metadata": {
        "id": "7v_ESjsspbW7"
      },
      "outputs": [],
      "source": [
        "# Chart - 1 visualization code\n",
        "attacks.plot(kind=\"line\",color=\"cornflowerblue\",figsize=(15,6),fontsize=13)\n",
        "plt.title(\"Timeline of Attacks\",fontsize=20)\n",
        "plt.xlabel(\"Years\",fontsize=15)\n",
        "plt.ylabel(\"number of Attacks\",fontsize=15)\n",
        "plt.show()"
      ]
    },
    {
      "cell_type": "markdown",
      "metadata": {
        "id": "K5QZ13OEpz2H"
      },
      "source": [
        "##### 1. Why did you pick the specific chart?"
      ]
    },
    {
      "cell_type": "markdown",
      "metadata": {
        "id": "XESiWehPqBRc"
      },
      "source": [
        "Answer Here.\n",
        "I chose a line plot to visualize the data with \"year\" on the x-axis and Attacks on the y-axis. The line plot is effective for comparing the number of attacks each year,because it is perfect for trend over time, providing a clear and straightforward representation of the annual variations in casualties, aiding in trend analysis and decision-making."
      ]
    },
    {
      "cell_type": "markdown",
      "metadata": {
        "id": "lQ7QKXXCp7Bj"
      },
      "source": [
        "##### 2. What is/are the insight(s) found from the chart?"
      ]
    },
    {
      "cell_type": "markdown",
      "metadata": {
        "id": "C_j1G7yiqdRP"
      },
      "source": [
        "Answer Here\n",
        "\n",
        "1.Most number of Attacks=16903 in 2014\n",
        "\n",
        "2.Least number of Attacks=471 in 1971"
      ]
    },
    {
      "cell_type": "markdown",
      "metadata": {
        "id": "448CDAPjqfQr"
      },
      "source": [
        "##### 3. Will the gained insights help creating a positive business impact?\n",
        "Are there any insights that lead to negative growth? Justify with specific reason."
      ]
    },
    {
      "cell_type": "markdown",
      "metadata": {
        "id": "3cspy4FjqxJW"
      },
      "source": [
        "Answer Here\n",
        "\n",
        "\n",
        "Absolutely. The insights gained, such as the peak of 16,903 attacks in 2014 and the lowest point of 471 attacks in 1971, offer valuable historical context. Understanding these patterns can inform strategic decisions, enhance security measures, and contribute to creating a positive business impact by mitigating risks and ensuring preparedness."
      ]
    },
    {
      "cell_type": "markdown",
      "metadata": {
        "id": "KSlN3yHqYklG"
      },
      "source": [
        "#### Chart - 2  BAR CHART (CASUALTIES PER YEAR)"
      ]
    },
    {
      "cell_type": "code",
      "execution_count": null,
      "metadata": {
        "id": "W0BA9EItGvRQ"
      },
      "outputs": [],
      "source": []
    },
    {
      "cell_type": "code",
      "execution_count": null,
      "metadata": {
        "id": "R4YgtaqtYklH"
      },
      "outputs": [],
      "source": [
        "# Chart - 2 visualization code\n",
        "year_casualty=data[[\"Year\",\"Casualty\"]].groupby(\"Year\").sum()\n",
        "year_casualty.head()"
      ]
    },
    {
      "cell_type": "code",
      "execution_count": null,
      "metadata": {
        "id": "7bc6aQ2aGvRQ"
      },
      "outputs": [],
      "source": [
        "year_casualty.plot(kind='line',color='lightcoral',figsize=(15,6))\n",
        "plt.title(\"Year wise Casualties\",fontsize=20)\n",
        "plt.xlabel(\"Years\",fontsize=15)\n",
        "plt.ylabel(\"number of Casualties\",fontsize=15)\n",
        "plt.show()"
      ]
    },
    {
      "cell_type": "markdown",
      "metadata": {
        "id": "t6dVpIINYklI"
      },
      "source": [
        "##### 1. Why did you pick the specific chart?"
      ]
    },
    {
      "cell_type": "markdown",
      "metadata": {
        "id": "5aaW0BYyYklI"
      },
      "source": [
        "Answer Here.\n",
        "\n",
        "I opted for a line plot to depict casualties per year due to its simplicity and effectiveness in comparing discrete data. The clear visualization of annual variations in casualties aids in trend analysis, providing actionable insights for strategic decision-making and enhancing overall understanding of the dataset."
      ]
    },
    {
      "cell_type": "markdown",
      "metadata": {
        "id": "ijmpgYnKYklI"
      },
      "source": [
        "##### 2. What is/are the insight(s) found from the chart?"
      ]
    },
    {
      "cell_type": "markdown",
      "metadata": {
        "id": "PSx9atu2YklI"
      },
      "source": [
        "Answer Here\n",
        "\n",
        "We can see casualties are most in 2014 and least in 1971"
      ]
    },
    {
      "cell_type": "markdown",
      "metadata": {
        "id": "-JiQyfWJYklI"
      },
      "source": [
        "##### 3. Will the gained insights help creating a positive business impact?\n",
        "Are there any insights that lead to negative growth? Justify with specific reason."
      ]
    },
    {
      "cell_type": "markdown",
      "metadata": {
        "id": "BcBbebzrYklV"
      },
      "source": [
        "Answer Here\n",
        "\n",
        "Certainly. The insights, highlighting the peak in casualties in 2014 and the lowest in 1971, enable informed decision-making. This historical context is pivotal for businesses to implement robust security measures, mitigate risks effectively, and foster a safer environment, thereby contributing positively to business continuity and reputation."
      ]
    },
    {
      "cell_type": "markdown",
      "metadata": {
        "id": "EM7whBJCYoAo"
      },
      "source": [
        "#### Chart - 3 BAR CHART (KILLED PER YEAR)"
      ]
    },
    {
      "cell_type": "code",
      "execution_count": null,
      "metadata": {
        "id": "t6GMdE67YoAp"
      },
      "outputs": [],
      "source": [
        "# Chart - 3 visualization code\n",
        "killed=data[[\"Year\",\"No of Killed\"]].groupby(\"Year\").sum()\n",
        "killed.head()"
      ]
    },
    {
      "cell_type": "code",
      "execution_count": null,
      "metadata": {
        "id": "fSquSYD8GvRS"
      },
      "outputs": [],
      "source": [
        "killed.plot(kind=\"line\",color=\"cornflowerblue\",figsize=(15,6),fontsize=13)\n",
        "plt.title(\"People Killed per year\",fontsize=20)\n",
        "plt.xlabel(\"Years\",fontsize=15)\n",
        "plt.ylabel(\"number of Killed\",fontsize=15)\n",
        "plt.show()"
      ]
    },
    {
      "cell_type": "markdown",
      "metadata": {
        "id": "5dBItgRVYoAp"
      },
      "source": [
        "\n",
        "\n",
        "I chose a line plot to visualize the annual fatalities in terrorist attacks due to its ability to effectively display discrete data points. This graphical representation enables a straightforward comparison between years, facilitating a clear understanding of variations and aiding in the identification of trends, vital for strategic decision-making."
      ]
    },
    {
      "cell_type": "markdown",
      "metadata": {
        "id": "85gYPyotYoAp"
      },
      "source": [
        "##### 2. What is/are the insight(s) found from the chart?"
      ]
    },
    {
      "cell_type": "markdown",
      "metadata": {
        "id": "4jstXR6OYoAp"
      },
      "source": [
        "Answer Here\n",
        "\n",
        "The most number of people were killed in 2014 and least number of people were killed in 1971"
      ]
    },
    {
      "cell_type": "markdown",
      "metadata": {
        "id": "RoGjAbkUYoAp"
      },
      "source": [
        "##### 3. Will the gained insights help creating a positive business impact?\n",
        "Are there any insights that lead to negative growth? Justify with specific reason."
      ]
    },
    {
      "cell_type": "markdown",
      "metadata": {
        "id": "zfJ8IqMcYoAp"
      },
      "source": [
        "Answer Here\n",
        "\n",
        "Ofcourse. Understanding the significant variations in casualties, with the peak in 2014 and the lowest in 1971, is crucial for implementing targeted security measures. These insights contribute to risk mitigation, ensuring a safer environment, positively impacting business continuity, and fostering a resilient and secure operational landscape."
      ]
    },
    {
      "cell_type": "markdown",
      "metadata": {
        "id": "4Of9eVA-YrdM"
      },
      "source": [
        "#### Chart - 4"
      ]
    },
    {
      "cell_type": "code",
      "execution_count": null,
      "metadata": {
        "id": "irlUoxc8YrdO"
      },
      "outputs": [],
      "source": [
        "# Chart - 4 visualization code\n",
        "wounded=data[[\"Year\",\"Wounded\"]].groupby(\"Year\").sum()\n",
        "wounded.head()"
      ]
    },
    {
      "cell_type": "code",
      "execution_count": null,
      "metadata": {
        "id": "PL_Pya48GvRU"
      },
      "outputs": [],
      "source": [
        "wounded.plot(kind=\"bar\",color=\"mediumvioletred\",figsize=(15,6),fontsize=13)\n",
        "plt.title(\"People Wounded per year\",fontsize=20)\n",
        "plt.xlabel(\"Years\",fontsize=15)\n",
        "plt.ylabel(\"number of Wounded people\",fontsize=15)\n",
        "plt.show()"
      ]
    },
    {
      "cell_type": "markdown",
      "metadata": {
        "id": "OH-pJp9IphqM"
      },
      "source": [
        "#### Chart - 5 AREA CHART (REGION WISE ATTACKS)"
      ]
    },
    {
      "cell_type": "code",
      "execution_count": null,
      "metadata": {
        "id": "kuRf4wtuphqN"
      },
      "outputs": [],
      "source": [
        "# Chart - 5 visualization code\n",
        "reg=pd.crosstab(data.Year,data.Region)\n",
        "reg.head()"
      ]
    },
    {
      "cell_type": "code",
      "execution_count": null,
      "metadata": {
        "id": "nqR5TXK_GvRV"
      },
      "outputs": [],
      "source": [
        "reg.plot(kind=\"area\",stacked=False,alpha=0.5,figsize=(20,10))\n",
        "plt.title(\"Region wise attacks\",fontsize=20)\n",
        "plt.xlabel(\"Years\",fontsize=15)\n",
        "plt.ylabel(\"number of Attacks\",fontsize=15)\n",
        "plt.show()"
      ]
    },
    {
      "cell_type": "markdown",
      "metadata": {
        "id": "bbFf2-_FphqN"
      },
      "source": [
        "##### 1. Why did you pick the specific chart?"
      ]
    },
    {
      "cell_type": "markdown",
      "metadata": {
        "id": "loh7H2nzphqN"
      },
      "source": [
        "Answer Here.\n",
        "\n",
        "I chose an area chart to visualize region-wise attacks for its ability to depict cumulative patterns over time effectively. The filled areas convey the volume of attacks, aiding in discerning trends. This visualization choice enhances clarity in understanding the distribution of attacks across different regions, fostering insightful analysis."
      ]
    },
    {
      "cell_type": "markdown",
      "metadata": {
        "id": "_ouA3fa0phqN"
      },
      "source": [
        "##### 2. What is/are the insight(s) found from the chart?"
      ]
    },
    {
      "cell_type": "markdown",
      "metadata": {
        "id": "VECbqPI7phqN"
      },
      "source": [
        "Answer Here\n",
        "\n",
        "We can see that most numbers of attacks were happened in Middle East and North Africa followed by South Asia and least attacks happened in Australia and Oceana"
      ]
    },
    {
      "cell_type": "markdown",
      "metadata": {
        "id": "Seke61FWphqN"
      },
      "source": [
        "##### 3. Will the gained insights help creating a positive business impact?\n",
        "Are there any insights that lead to negative growth? Justify with specific reason."
      ]
    },
    {
      "cell_type": "markdown",
      "metadata": {
        "id": "DW4_bGpfphqN"
      },
      "source": [
        "Answer Here\n",
        "\n",
        "Absolutely. Recognizing the concentration of attacks in the Middle East and North Africa, followed by South Asia, informs strategic decision-making for businesses operating in these regions. Implementing targeted security measures and risk assessments can mitigate potential threats, ensuring a safer business environment and contributing to positive operational resilience and impact."
      ]
    },
    {
      "cell_type": "markdown",
      "metadata": {
        "id": "PIIx-8_IphqN"
      },
      "source": [
        "#### Chart - 6 Attacks per Country"
      ]
    },
    {
      "cell_type": "code",
      "execution_count": null,
      "metadata": {
        "id": "lqAIGUfyphqO",
        "scrolled": true
      },
      "outputs": [],
      "source": [
        "# Chart - 7 visualization code\n",
        "ct=data[\"Country\"].value_counts().head(10)\n",
        "ct"
      ]
    },
    {
      "cell_type": "code",
      "execution_count": null,
      "metadata": {
        "id": "UZvlLhBLGvRW"
      },
      "outputs": [],
      "source": [
        "ct.plot(kind=\"bar\",color='darkkhaki',figsize=(20,10))\n",
        "plt.title(\"Country wise attacks\",fontsize=20)\n",
        "plt.xlabel(\"Countries\",fontsize=15)\n",
        "plt.xticks(fontsize=12)\n",
        "plt.ylabel(\"number of Attacks\",fontsize=15)\n",
        "plt.show()"
      ]
    },
    {
      "cell_type": "markdown",
      "metadata": {
        "id": "t27r6nlMphqO"
      },
      "source": [
        "##### 1. Why did you pick the specific chart?"
      ]
    },
    {
      "cell_type": "markdown",
      "metadata": {
        "id": "iv6ro40sphqO"
      },
      "source": [
        "Answer Here.\n",
        "\n",
        "Bar chart would be perfect for comparing number of attacks per each country"
      ]
    },
    {
      "cell_type": "markdown",
      "metadata": {
        "id": "r2jJGEOYphqO"
      },
      "source": [
        "##### 2. What is/are the insight(s) found from the chart?"
      ]
    },
    {
      "cell_type": "markdown",
      "metadata": {
        "id": "Po6ZPi4hphqO"
      },
      "source": [
        "Answer Here\n",
        "\n",
        "here we can see that mosyt number of attacks happened in Iraq(24636) and least attacks in Turkey(4292)"
      ]
    },
    {
      "cell_type": "markdown",
      "metadata": {
        "id": "b0JNsNcRphqO"
      },
      "source": [
        "##### 3. Will the gained insights help creating a positive business impact?\n",
        "Are there any insights that lead to negative growth? Justify with specific reason."
      ]
    },
    {
      "cell_type": "markdown",
      "metadata": {
        "id": "xvSq8iUTphqO"
      },
      "source": [
        "Answer Here\n",
        "\n",
        "Absolutely, these insights will help in business by getting aware of attacks in each country so that company can invest accordingly"
      ]
    },
    {
      "cell_type": "markdown",
      "metadata": {
        "id": "BZR9WyysphqO"
      },
      "source": [
        "#### Chart - 7 Bar Chart (KILLED PER COUNTRY)"
      ]
    },
    {
      "cell_type": "code",
      "execution_count": null,
      "metadata": {
        "id": "TdPTWpAVphqO"
      },
      "outputs": [],
      "source": [
        "# Chart - 7 visualization code\n",
        "killed_c=data[[\"Country\",\"No of Killed\"]].groupby(\"Country\").sum().sort_values(by='No of Killed',ascending=False)\n",
        "killed_c.head(10)"
      ]
    },
    {
      "cell_type": "code",
      "execution_count": null,
      "metadata": {
        "id": "faxNMApYGvRY"
      },
      "outputs": [],
      "source": [
        "killed_c[:10].plot(kind=\"bar\",color='burlywood',figsize=(20,10))\n",
        "plt.title(\"Country wise Killed\",fontsize=20)\n",
        "plt.xlabel(\"Countries\",fontsize=15)\n",
        "plt.ylabel(\"number of Killed\",fontsize=15)\n",
        "plt.show()"
      ]
    },
    {
      "cell_type": "markdown",
      "metadata": {
        "id": "jj7wYXLtphqO"
      },
      "source": [
        "##### 1. Why did you pick the specific chart?"
      ]
    },
    {
      "cell_type": "markdown",
      "metadata": {
        "id": "Ob8u6rCTphqO"
      },
      "source": [
        "Answer Here.\n",
        "\n",
        "I selected a bar plot to represent casualties per country for its clarity in displaying discrete data. The visual comparison between countries aids in identifying patterns and variations. This straightforward presentation enhances comprehension, contributing to a more informed analysis of the impact of terrorist attacks on a global scale."
      ]
    },
    {
      "cell_type": "markdown",
      "metadata": {
        "id": "eZrbJ2SmphqO"
      },
      "source": [
        "##### 2. What is/are the insight(s) found from the chart?"
      ]
    },
    {
      "cell_type": "markdown",
      "metadata": {
        "id": "mZtgC_hjphqO"
      },
      "source": [
        "Answer Here\n",
        "\n",
        "Iraq has most number of kills(78589) where El Salvador has least number of kills(12053)"
      ]
    },
    {
      "cell_type": "markdown",
      "metadata": {
        "id": "rFu4xreNphqO"
      },
      "source": [
        "##### 3. Will the gained insights help creating a positive business impact?\n",
        "Are there any insights that lead to negative growth? Justify with specific reason."
      ]
    },
    {
      "cell_type": "markdown",
      "metadata": {
        "id": "ey_0qi68phqO"
      },
      "source": [
        "Answer Here\n",
        "\n",
        "Absolutely. Knowing that Iraq recorded the highest casualties at 78,589 and El Salvador the least at 12,053 allows businesses to tailor security measures accordingly. These insights promote a safer business environment, ensuring resilience, and aiding in effective risk management for a positive impact on business operations."
      ]
    },
    {
      "cell_type": "markdown",
      "metadata": {
        "id": "YJ55k-q6phqO"
      },
      "source": [
        "#### Chart - 8"
      ]
    },
    {
      "cell_type": "code",
      "execution_count": null,
      "metadata": {
        "id": "B2aS4O1ophqO"
      },
      "outputs": [],
      "source": [
        "# Chart - 8 visualization code\n",
        "city_c=data[[\"City\",\"Casualty\"]].groupby(\"City\").sum().sort_values(by=\"Casualty\",ascending=False).drop(\"Unknown\")\n",
        "city_c.head(10)"
      ]
    },
    {
      "cell_type": "code",
      "execution_count": null,
      "metadata": {
        "id": "nVh0XK3PGvRa"
      },
      "outputs": [],
      "source": [
        "city_c[:10].plot(kind='bar',color='crimson',figsize=(15,6))\n",
        "plt.title('City wise Casualties',fontsize=18)\n",
        "plt.xlabel(\"Cities\",fontsize=13)\n",
        "plt.ylabel(\"Number of Casualties\",fontsize=13)\n",
        "plt.show()"
      ]
    },
    {
      "cell_type": "markdown",
      "metadata": {
        "id": "gCFgpxoyphqP"
      },
      "source": [
        "##### 1. Why did you pick the specific chart?"
      ]
    },
    {
      "cell_type": "markdown",
      "metadata": {
        "id": "TVxDimi2phqP"
      },
      "source": [
        "Answer Here.\n",
        "\n",
        "\n",
        "I selected a bar plot to represent casualties per city for its simplicity and effectiveness in comparing discrete data points. The clear bars allow for an immediate visual comparison of casualty numbers across cities, providing a straightforward and impactful overview, facilitating easy identification of the most affected areas.\n"
      ]
    },
    {
      "cell_type": "markdown",
      "metadata": {
        "id": "OVtJsKN_phqQ"
      },
      "source": [
        "##### 2. What is/are the insight(s) found from the chart?"
      ]
    },
    {
      "cell_type": "markdown",
      "metadata": {
        "id": "ngGi97qjphqQ"
      },
      "source": [
        "Answer Here\n",
        "\n",
        "We can see that most number of Casualties happened in Baghdad(IRAQ) and least number of casualties happened Aleppo as compared to top 10 cities"
      ]
    },
    {
      "cell_type": "markdown",
      "metadata": {
        "id": "lssrdh5qphqQ"
      },
      "source": [
        "##### 3. Will the gained insights help creating a positive business impact?\n",
        "Are there any insights that lead to negative growth? Justify with specific reason."
      ]
    },
    {
      "cell_type": "markdown",
      "metadata": {
        "id": "tBpY5ekJphqQ"
      },
      "source": [
        "Answer Here\n",
        "\n",
        "Certainly. Understanding that Baghdad (Iraq) experienced the highest casualties and Aleppo the least among the top 10 cities due to terrorist attacks is crucial for businesses. Implementing targeted security measures in high-risk areas and fostering a safer environment positively impacts business continuity, ensuring resilience, and informed risk management."
      ]
    },
    {
      "cell_type": "markdown",
      "metadata": {
        "id": "U2RJ9gkRphqQ"
      },
      "source": [
        "#### Chart - 9 TERRORIST GROUP WISE ATTACK"
      ]
    },
    {
      "cell_type": "code",
      "execution_count": null,
      "metadata": {
        "id": "GM7a4YP4phqQ"
      },
      "outputs": [],
      "source": [
        "# Chart - 9 visualization code\n",
        "grp=data[\"Group Name\"].value_counts()[1:10]\n",
        "grp"
      ]
    },
    {
      "cell_type": "code",
      "execution_count": null,
      "metadata": {
        "id": "QZ-198V3GvRb"
      },
      "outputs": [],
      "source": [
        "grp.plot(kind='bar',color='darkolivegreen',figsize=(15,6))\n",
        "plt.title('Group wise Attacks',fontsize=18)\n",
        "plt.xlabel(\"Terrorist Groups\",fontsize=13)\n",
        "plt.xticks(fontsize=12)\n",
        "plt.ylabel(\"Number of Attacks\",fontsize=13)\n",
        "plt.show()"
      ]
    },
    {
      "cell_type": "markdown",
      "metadata": {
        "id": "1M8mcRywphqQ"
      },
      "source": [
        "##### 1. Why did you pick the specific chart?"
      ]
    },
    {
      "cell_type": "markdown",
      "metadata": {
        "id": "8agQvks0phqQ"
      },
      "source": [
        "Answer Here.\n",
        "\n",
        "I chose a bar plot to depict the number of attacks by terrorist groups for its simplicity in presenting discrete data. The clear bars allow for an immediate comparison of attack frequencies, aiding in identifying the most active groups. This straightforward representation is effective for strategic decision-making and risk assessment."
      ]
    },
    {
      "cell_type": "markdown",
      "metadata": {
        "id": "tgIPom80phqQ"
      },
      "source": [
        "##### 2. What is/are the insight(s) found from the chart?"
      ]
    },
    {
      "cell_type": "markdown",
      "metadata": {
        "id": "Qp13pnNzphqQ"
      },
      "source": [
        "Answer Here\n",
        "\n",
        "We can see that Taliban Group has most number of attacks with over 7400 attacks and Boko Haram has least number of attacks (2418) in top 10 groups"
      ]
    },
    {
      "cell_type": "markdown",
      "metadata": {
        "id": "JMzcOPDDphqR"
      },
      "source": [
        "##### 3. Will the gained insights help creating a positive business impact?\n",
        "Are there any insights that lead to negative growth? Justify with specific reason."
      ]
    },
    {
      "cell_type": "markdown",
      "metadata": {
        "id": "R4Ka1PC2phqR"
      },
      "source": [
        "Answer Here\n",
        "\n",
        "Absolutely. Understanding that the Taliban has the highest attacks and Boko Haram the least among top groups is vital for businesses. Tailoring security measures to high-risk areas and leveraging insights on group activities positively impacts risk management, ensuring a safer business environment and operational continuity.\n",
        "\n",
        "\n",
        "\n",
        "\n",
        "\n"
      ]
    },
    {
      "cell_type": "markdown",
      "metadata": {
        "id": "x-EpHcCOp1ci"
      },
      "source": [
        "#### Chart - 10 People killed by each group"
      ]
    },
    {
      "cell_type": "code",
      "execution_count": null,
      "metadata": {
        "id": "mAQTIvtqp1cj"
      },
      "outputs": [],
      "source": [
        "# Chart - 10 visualization code\n",
        "grpk=data[[\"Group Name\",\"No of Killed\"]].groupby(\"Group Name\").sum().sort_values(by=\"No of Killed\",ascending=False).drop(\"Unknown\")\n",
        "grpk.head(10)\n"
      ]
    },
    {
      "cell_type": "code",
      "execution_count": null,
      "metadata": {
        "id": "pWa3w1gZGvRd"
      },
      "outputs": [],
      "source": [
        "grpk[:10].plot(kind='bar',color='red',figsize=(15,6))\n",
        "plt.title('Group wise Killed',fontsize=18)\n",
        "plt.xlabel(\"Terrorist Groups\",fontsize=13)\n",
        "plt.xticks(fontsize=12)\n",
        "plt.ylabel(\"Number of Killed\",fontsize=13)\n",
        "plt.show()"
      ]
    },
    {
      "cell_type": "markdown",
      "metadata": {
        "id": "n3dbpmDWp1ck"
      },
      "source": [
        "#### Chart - 11 Group + Country Wise-Top 10"
      ]
    },
    {
      "cell_type": "code",
      "execution_count": null,
      "metadata": {
        "id": "bwevp1tKp1ck"
      },
      "outputs": [],
      "source": [
        "# Chart - 11 visualization code\n",
        "gca=data[[\"Group Name\",\"Country\"]].value_counts().drop(\"Unknown\")\n",
        "gca.head(10)"
      ]
    },
    {
      "cell_type": "code",
      "execution_count": null,
      "metadata": {
        "id": "E8H054CcGvRe"
      },
      "outputs": [],
      "source": [
        "gca.head(10).plot(kind='bar',color=\"cornflowerblue\",figsize=(15,6))\n",
        "plt.title('Countries with most attacks by particular Group',fontsize=18)\n",
        "plt.xlabel(\"Terrorist Groups,Country\",fontsize=13)\n",
        "plt.xticks(fontsize=12)\n",
        "plt.ylabel(\"Number of Attacks\",fontsize=13)\n",
        "plt.show()"
      ]
    },
    {
      "cell_type": "markdown",
      "metadata": {
        "id": "Ag9LCva-p1cl"
      },
      "source": [
        "#### Chart - 12\n"
      ]
    },
    {
      "cell_type": "code",
      "execution_count": null,
      "metadata": {
        "id": "EUfxeq9-p1cl"
      },
      "outputs": [],
      "source": [
        "# Chart - 12 visualization code\n",
        "attack_type_counts = data['Attack Type'].value_counts()\n",
        "\n",
        "plt.figure(figsize=(8, 8))\n",
        "plt.pie(attack_type_counts, labels=attack_type_counts.index, autopct='%1.1f%%', startangle=140)\n",
        "plt.title('Distribution of Attack Types')\n",
        "plt.show()"
      ]
    },
    {
      "cell_type": "markdown",
      "metadata": {
        "id": "E6MkPsBcp1cl"
      },
      "source": [
        "##### 1. Why did you pick the specific chart?"
      ]
    },
    {
      "cell_type": "markdown",
      "metadata": {
        "id": "V22bRsFWp1cl"
      },
      "source": [
        "Answer Here.\n",
        "\n",
        "A pie chart is chosen to represent the distribution of attack types because it effectively illustrates the proportion of each category within the whole dataset. This chart is ideal for displaying categorical data in a visually intuitive manner, aiding in quick comprehension of relative frequencies."
      ]
    },
    {
      "cell_type": "markdown",
      "metadata": {
        "id": "2cELzS2fp1cl"
      },
      "source": [
        "##### 2. What is/are the insight(s) found from the chart?"
      ]
    },
    {
      "cell_type": "markdown",
      "metadata": {
        "id": "ozQPc2_Ip1cl"
      },
      "source": [
        "Answer Here\n",
        "\n",
        "Here we can see that most of the attacks were happened by Bombing Approx 48% and least attacks have happened by Hijacking approx 0.4%"
      ]
    },
    {
      "cell_type": "markdown",
      "metadata": {
        "id": "3MPXvC8up1cl"
      },
      "source": [
        "##### 3. Will the gained insights help creating a positive business impact?\n",
        "Are there any insights that lead to negative growth? Justify with specific reason."
      ]
    },
    {
      "cell_type": "markdown",
      "metadata": {
        "id": "GL8l1tdLp1cl"
      },
      "source": [
        "Answer Here\n",
        "\n",
        "The insights gained from the pie chart, revealing that approximately 48% of attacks involved bombing and only 0.4% involved hijacking, can inform strategic decisions. Businesses could prioritize security measures against bomb-related threats, potentially mitigating risks more effectively. This data-driven approach enables targeted resource allocation, enhancing overall security protocols. Implementing measures based on attack type frequency can contribute to a safer environment, potentially safeguarding lives and assets, thereby positively impacting the security and resilience of the business."
      ]
    },
    {
      "cell_type": "markdown",
      "metadata": {
        "id": "NC_X3p0fY2L0"
      },
      "source": [
        "#### Chart - 14 - Correlation Heatmap"
      ]
    },
    {
      "cell_type": "code",
      "execution_count": null,
      "metadata": {
        "id": "xyC9zolEZNRQ"
      },
      "outputs": [],
      "source": [
        "# Correlation Heatmap visualization code\n",
        "heatmap_data = data[['Country', 'No of Killed', 'Wounded']]\n",
        "heatmap_data = heatmap_data.groupby('Country').sum().reset_index()\n",
        "heatmap_data['No of Killed'] = heatmap_data['No of Killed'].fillna(0).astype(int)\n",
        "heatmap_data['Wounded'] = heatmap_data['Wounded'].fillna(0).astype(int)\n",
        "\n",
        "heatmap_data = heatmap_data.sort_values(by='No of Killed', ascending=False)\n",
        "\n",
        "top_10_countries = heatmap_data.head(10)\n",
        "\n",
        "plt.figure(figsize=(12, 8))\n",
        "ax = sns.heatmap(top_10_countries[['No of Killed', 'Wounded']], annot=True, fmt='d', cmap='inferno', cbar_kws={'label': 'Number of Incidents'})\n",
        "\n",
        "ax.set_yticklabels(top_10_countries['Country'], rotation=0)\n",
        "\n",
        "plt.title('Number of People Killed and Wounded in Top 10 Countries')\n",
        "plt.show()"
      ]
    },
    {
      "cell_type": "markdown",
      "metadata": {
        "id": "UV0SzAkaZNRQ"
      },
      "source": [
        "##### 1. Why did you pick the specific chart?"
      ]
    },
    {
      "cell_type": "markdown",
      "metadata": {
        "id": "DVPuT8LYZNRQ"
      },
      "source": [
        "Answer Here.\n",
        "\n",
        "\n",
        "A heatmap is used to visualize the number of people killed and wounded in different countries because it provides a clear, color-coded representation of the data. This allows for easy identification of patterns, hotspots, and a quick comparison of the magnitude of impact across regions."
      ]
    },
    {
      "cell_type": "markdown",
      "metadata": {
        "id": "YPEH6qLeZNRQ"
      },
      "source": [
        "##### 2. What is/are the insight(s) found from the chart?"
      ]
    },
    {
      "cell_type": "markdown",
      "metadata": {
        "id": "bfSqtnDqZNRR"
      },
      "source": [
        "Answer Here\n",
        "\n",
        "1.This map indicates the number of people killed and wounded in different countries\n",
        "\n",
        "2.Darker cells represent countries where the count of people killed or wounded is relatively high.\n",
        "\n",
        "3.Here we can see that Iraq has most no. of people killed and wounded and El salvador has least number of people killed and Wounded among top 10 countries"
      ]
    },
    {
      "cell_type": "markdown",
      "metadata": {
        "id": "q29F0dvdveiT"
      },
      "source": [
        "#### Chart - 15 - Pair Plot"
      ]
    },
    {
      "cell_type": "code",
      "execution_count": null,
      "metadata": {
        "id": "o58-TEIhveiU"
      },
      "outputs": [],
      "source": [
        "# Pair Plot visualization code\n",
        "pair_plot_data = data[['No of Killed', 'Wounded', 'Country']]\n",
        "pair_plot_data = pair_plot_data.dropna()\n",
        "\n",
        "top_10_countries = pair_plot_data.groupby('Country').sum().sort_values(by='No of Killed', ascending=False).head(10).index\n",
        "\n",
        "pair_plot_data_top_10 = pair_plot_data[pair_plot_data['Country'].isin(top_10_countries)]\n",
        "\n",
        "sns.pairplot(pair_plot_data_top_10, hue='Country', palette='viridis')\n",
        "plt.show()\n"
      ]
    },
    {
      "cell_type": "markdown",
      "metadata": {
        "id": "EXh0U9oCveiU"
      },
      "source": [
        "##### 1. Why did you pick the specific chart?"
      ]
    },
    {
      "cell_type": "markdown",
      "metadata": {
        "id": "eMmPjTByveiU"
      },
      "source": [
        "Answer Here.\n",
        "\n",
        "The pair plot is chosen to visualize relationships between \"No of Killed\" and \"Wounded\" variables for the top 10 countries. This scatterplot matrix provides insights into the correlation and distribution of these variables, helping identify patterns and trends specific to each country, aiding in a comprehensive understanding of the data."
      ]
    },
    {
      "cell_type": "markdown",
      "metadata": {
        "id": "22aHeOlLveiV"
      },
      "source": [
        "##### 2. What is/are the insight(s) found from the chart?"
      ]
    },
    {
      "cell_type": "markdown",
      "metadata": {
        "id": "uPQ8RGwHveiV"
      },
      "source": [
        "Answer Here\n",
        "\n",
        "In this pair plot where values for \"No of Killed\" and \"Wounded\" are concentrated between zero and 500, insights can be drawn as follows:\n",
        "\n",
        "Prevalence of Low to Moderate Casualty Incidents: The clustering around zero to 500 indicates that a substantial number of incidents result in relatively low to moderate casualties.\n",
        "\n",
        "Commonality of Moderate-Impact Events: The pattern suggests that incidents causing casualties between 0 and 500 are frequent, reflecting a common scenario in the dataset.\n",
        "\n",
        "Occasional High-Impact Outliers: While most incidents fall within the lower to mid-range, there may be occasional outliers with higher casualties. These outliers warrant closer examination to understand their unique characteristics and contributing factors.\n",
        "\n",
        "Potential for Severity Analysis: The pair plot underscores the importance of analyzing incidents with higher casualties for a comprehensive understanding of their severity and implications.\n",
        "\n",
        "Effective Incident Management: Insights derived from this concentration can inform effective incident management strategies, emphasizing the need for measures to address a range of casualty scenarios, from low to moderate impacts."
      ]
    },
    {
      "cell_type": "markdown",
      "metadata": {
        "id": "JcMwzZxoAimU"
      },
      "source": [
        "## **5. Solution to Business Objective**"
      ]
    },
    {
      "cell_type": "markdown",
      "metadata": {
        "id": "8G2x9gOozGDZ"
      },
      "source": [
        "#### What do you suggest the client to achieve Business Objective ?\n",
        "Explain Briefly."
      ]
    },
    {
      "cell_type": "markdown",
      "metadata": {
        "id": "pASKb0qOza21"
      },
      "source": [
        "Answer Here.\n",
        "\n",
        "The data analysis on terrorism reveals important trends. In 2014, there was a peak in casualties, while 1971 saw the lowest. The Middle East and North Africa had the most attacks, particularly in Iraq where both attacks and casualties were highest.\n",
        "\n",
        "Bombings were the most common attack type, making up nearly half of all incidents. This highlights the need for international collaboration and preventive measures against bomb-related threats.\n",
        "\n",
        "Conversely, regions with lower incidents, like Australia, provide potential models for effective security. The majority of incidents resulted in relatively low to moderate casualties, emphasizing the importance of nuanced response strategies.\n",
        "\n",
        "To craft an effective counter-terrorism strategy, global cooperation is crucial. Information sharing, tailored initiatives for high-risk regions, and learning from successful security models can collectively contribute to a safer world."
      ]
    },
    {
      "cell_type": "markdown",
      "metadata": {
        "id": "gCX9965dhzqZ"
      },
      "source": [
        "# **Conclusion**"
      ]
    },
    {
      "cell_type": "markdown",
      "metadata": {
        "id": "Fjb1IsQkh3yE"
      },
      "source": [
        "Write the conclusion here.\n",
        "\n",
        "To align your business with global security priorities, prioritize high-risk regions, collaborating internationally for shared intelligence and strategies. Establish partnerships for enhanced security measures. Invest in advanced technologies to counteract common threats, especially bombings. Learn from regions with low incident rates like Australia to implement effective security models.\n",
        "\n",
        "Analyze fluctuations in attack patterns over the years, focusing on high-impact periods, like 2014, to enhance preparedness. Tailor response strategies for incidents with relatively low to moderate casualties, while remaining vigilant for outliers with higher casualties.\n",
        "\n",
        "Promote a culture of security awareness among employees through regular training and drills. Stay informed about global security efforts and changes in regulations, participating in industry forums and collaborating with experts. This comprehensive approach not only contributes to a safer world but also strengthens the resilience and sustainability of your business in an evolving global landscape.\n",
        "\n",
        "\n",
        "\n",
        "\n",
        "\n"
      ]
    },
    {
      "cell_type": "markdown",
      "metadata": {
        "id": "gIfDvo9L0UH2"
      },
      "source": [
        "### ***Hurrah! You have successfully completed your EDA Capstone Project !!!***"
      ]
    }
  ],
  "metadata": {
    "colab": {
      "collapsed_sections": [
        "vncDsAP0Gaoa",
        "FJNUwmbgGyua",
        "w6K7xa23Elo4",
        "yQaldy8SH6Dl",
        "PH-0ReGfmX4f",
        "mDgbUHAGgjLW",
        "O_i_v8NEhb9l",
        "HhfV-JJviCcP",
        "Y3lxredqlCYt",
        "3RnN4peoiCZX",
        "x71ZqKXriCWQ",
        "7hBIi_osiCS2",
        "JlHwYmJAmNHm",
        "35m5QtbWiB9F",
        "PoPl-ycgm1ru",
        "H0kj-8xxnORC",
        "nA9Y7ga8ng1Z",
        "PBTbrJXOngz2",
        "u3PMJOP6ngxN",
        "dauF4eBmngu3",
        "bKJF3rekwFvQ",
        "MSa1f5Uengrz",
        "GF8Ens_Soomf",
        "0wOQAZs5pc--",
        "K5QZ13OEpz2H",
        "lQ7QKXXCp7Bj",
        "448CDAPjqfQr",
        "KSlN3yHqYklG",
        "t6dVpIINYklI",
        "ijmpgYnKYklI",
        "-JiQyfWJYklI",
        "EM7whBJCYoAo",
        "85gYPyotYoAp",
        "RoGjAbkUYoAp",
        "4Of9eVA-YrdM",
        "OH-pJp9IphqM",
        "bbFf2-_FphqN",
        "_ouA3fa0phqN",
        "Seke61FWphqN",
        "PIIx-8_IphqN",
        "t27r6nlMphqO",
        "r2jJGEOYphqO",
        "b0JNsNcRphqO",
        "BZR9WyysphqO",
        "jj7wYXLtphqO",
        "eZrbJ2SmphqO",
        "rFu4xreNphqO",
        "YJ55k-q6phqO",
        "gCFgpxoyphqP",
        "OVtJsKN_phqQ",
        "lssrdh5qphqQ",
        "U2RJ9gkRphqQ",
        "1M8mcRywphqQ",
        "tgIPom80phqQ",
        "JMzcOPDDphqR",
        "x-EpHcCOp1ci",
        "n3dbpmDWp1ck",
        "Ag9LCva-p1cl",
        "E6MkPsBcp1cl",
        "2cELzS2fp1cl",
        "3MPXvC8up1cl",
        "NC_X3p0fY2L0",
        "UV0SzAkaZNRQ",
        "YPEH6qLeZNRQ",
        "q29F0dvdveiT",
        "EXh0U9oCveiU",
        "22aHeOlLveiV",
        "JcMwzZxoAimU",
        "8G2x9gOozGDZ",
        "gCX9965dhzqZ",
        "gIfDvo9L0UH2"
      ],
      "private_outputs": true,
      "provenance": []
    },
    "kernelspec": {
      "display_name": "Python 3 (ipykernel)",
      "language": "python",
      "name": "python3"
    },
    "language_info": {
      "codemirror_mode": {
        "name": "ipython",
        "version": 3
      },
      "file_extension": ".py",
      "mimetype": "text/x-python",
      "name": "python",
      "nbconvert_exporter": "python",
      "pygments_lexer": "ipython3",
      "version": "3.10.9"
    }
  },
  "nbformat": 4,
  "nbformat_minor": 0
}